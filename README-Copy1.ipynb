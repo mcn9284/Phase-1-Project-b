{
 "cells": [
  {
   "cell_type": "markdown",
   "metadata": {
    "ExecuteTime": {
     "end_time": "2021-12-21T03:23:08.065896Z",
     "start_time": "2021-12-21T03:23:08.016886Z"
    }
   },
   "source": [
    "<hr style=\"border:1.5px solid gray\"> </hr>\n",
    "\n",
    "\n",
    "<font size=4>__Author__: Matthew Noonan</font>\n",
    "\n",
    "\n",
    "<font size=5>__Overview__</font>\n",
    "<hr style=\"border:1.5px solid gray\"> </hr>\n",
    "\n",
    "<font size=4>Microsoft Studios, a newly formed division of Microsoft, is looking to make its \n",
    "    movie production debut. To that end, it wants to know what movies typically perform well.\n",
    "    We arrive at three recommendations for its movie-making debut by analyzing various \n",
    "    movie information databases using pandas and visualizations. Our recommendations were \n",
    "    drawn from the results of budget and genre data.\n",
    "    \n",
    "\n",
    "<font size=5>__Business Problem__</font>\n",
    "<hr style=\"border:1.5px solid gray\"> </hr>We asked:<br>\n",
    "\n",
    "     - How are film budget and worldwide gross related?\n",
    "     \n",
    "     - Do different genres have different profitability ratios?\n",
    "     \n",
    "     - Which genres have the highest average grosses?\n",
    "\n",
    "<font size=5>__Data__</font>\n",
    "<hr style=\"border:1.5px solid gray\"> </hr>The data comes from several\n",
    "online information databases (IMDB, TheNumbers, and BoxOfficeMojo).\n",
    "Each row contains information about individual films, each source with\n",
    "different features. We chose these data sources for ease of use, variety\n",
    "of data, and size.\n",
    "\n",
    "<font size=5>__Methods__</font>\n",
    "<hr style=\"border:1.5px solid gray\"> </hr>The data was prepared and cleaned\n",
    "of NaN's and non-sensical entries; some features were dropped entirely, and \n",
    "other features created. \n",
    "\n",
    "\n",
    "<font size=5>__Results__</font>\n",
    "<hr style=\"border:1.5px solid gray\"> </hr>We found that budget and worldwide\n",
    "gross were tightly correlated.<img src=\"https://github.com/mcn9284/Phase-1-Project-b/blob/main/Project_1/phase-one-project/Images/budgetvsgross.png?raw=true\">\n",
    "\n",
    "\n",
    "That profitability was higher with some genres \n",
    "<img src=\"https://github.com/mcn9284/Phase-1-Project-b/blob/main/Project_1/phase-one-project/Images/profitabilityvsgenre.png?raw=true\">\n",
    "\n",
    "That ratings and gross were not tightly coupled.\n",
    "<img src=\"https://github.com/mcn9284/Phase-1-Project-b/blob/main/Project_1/phase-one-project/Images/ratingsvsgross.png?raw=true\">\n",
    "\n",
    "Recommendations:\n",
    "\n",
    "     - with respect to budget, choosing moderate budget yields higher returns\n",
    "     - Action, adventure, animation, and scifi were most profitable\n",
    "     - Fittingly, these same genres had higher grosses than other genres\n",
    "\n",
    "<font size=5>__For More Information__</font>\n",
    "<hr style=\"border:1.5px solid gray\"> </hr>For further analysis, please see our\n",
    "full [jupyter notebook](./Untitled1.ipynb)\n",
    "\n",
    "\n"
   ]
  },
  {
   "cell_type": "code",
   "execution_count": null,
   "metadata": {},
   "outputs": [],
   "source": []
  }
 ],
 "metadata": {
  "datacleaner": {
   "position": {
    "top": "50px"
   },
   "python": {
    "varRefreshCmd": "try:\n    print(_datacleaner.dataframe_metadata())\nexcept:\n    print([])"
   },
   "window_display": false
  },
  "kernelspec": {
   "display_name": "Python (learn-env)",
   "language": "python",
   "name": "learn-env"
  },
  "language_info": {
   "codemirror_mode": {
    "name": "ipython",
    "version": 3
   },
   "file_extension": ".py",
   "mimetype": "text/x-python",
   "name": "python",
   "nbconvert_exporter": "python",
   "pygments_lexer": "ipython3",
   "version": "3.8.5"
  },
  "toc": {
   "base_numbering": 1,
   "nav_menu": {},
   "number_sections": true,
   "sideBar": true,
   "skip_h1_title": false,
   "title_cell": "Table of Contents",
   "title_sidebar": "Contents",
   "toc_cell": false,
   "toc_position": {},
   "toc_section_display": true,
   "toc_window_display": false
  },
  "varInspector": {
   "cols": {
    "lenName": 16,
    "lenType": 16,
    "lenVar": 40
   },
   "kernels_config": {
    "python": {
     "delete_cmd_postfix": "",
     "delete_cmd_prefix": "del ",
     "library": "var_list.py",
     "varRefreshCmd": "print(var_dic_list())"
    },
    "r": {
     "delete_cmd_postfix": ") ",
     "delete_cmd_prefix": "rm(",
     "library": "var_list.r",
     "varRefreshCmd": "cat(var_dic_list()) "
    }
   },
   "types_to_exclude": [
    "module",
    "function",
    "builtin_function_or_method",
    "instance",
    "_Feature"
   ],
   "window_display": false
  }
 },
 "nbformat": 4,
 "nbformat_minor": 4
}
